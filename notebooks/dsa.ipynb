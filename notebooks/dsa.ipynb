{
 "cells": [
  {
   "cell_type": "markdown",
   "metadata": {},
   "source": [
    "# `HashSet<T>`\n",
    "\n",
    "Collection of unique unordered items, with O(1) lookup.\n",
    "\n",
    "- Better performance on `Contains()` than a `List<T>`"
   ]
  },
  {
   "cell_type": "code",
   "execution_count": null,
   "metadata": {
    "dotnet_interactive": {
     "language": "csharp"
    },
    "vscode": {
     "languageId": "dotnet-interactive.csharp"
    }
   },
   "outputs": [
    {
     "name": "stdout",
     "output_type": "stream",
     "text": [
      "True\n"
     ]
    }
   ],
   "source": [
    "HashSet<int> validStoryPoints = new HashSet<int>() {1,2,3,5,8,13,21};\n",
    "bool containsEight = validStoryPoints.Contains(8); \n",
    "Console.WriteLine(containsEight);"
   ]
  },
  {
   "cell_type": "markdown",
   "metadata": {},
   "source": [
    "[Official Documentation](https://docs.microsoft.com/en-us/dotnet/api/system.collections.generic.hashset-1?view=net-6.0)"
   ]
  },
  {
   "cell_type": "markdown",
   "metadata": {},
   "source": [
    "# `Dictionary<TKey, TValue>`\n",
    "\n",
    "This can be used as an alternative to Java / JS HashMap."
   ]
  },
  {
   "cell_type": "code",
   "execution_count": null,
   "metadata": {
    "dotnet_interactive": {
     "language": "csharp"
    },
    "vscode": {
     "languageId": "dotnet-interactive.csharp"
    }
   },
   "outputs": [
    {
     "name": "stdout",
     "output_type": "stream",
     "text": [
      "24\n",
      "George NOT among people\n",
      "35\n",
      "0\n",
      "Name=Srinjoy, Age=24\n",
      "Name=John, Age=40\n",
      "Name=Mary, Age=35\n",
      "Srinjoy, John, Mary\n"
     ]
    }
   ],
   "source": [
    "var people = new Dictionary<string, int>\n",
    "{\n",
    "    [\"Srinjoy\"] = 24,\n",
    "    [\"John\"] = 30,\n",
    "    [\"Mary\"] = 35\n",
    "};\n",
    "\n",
    "// Reading data\n",
    "Console.WriteLine(people[\"Srinjoy\"]);\n",
    "string someRandomName=\"George\";\n",
    "if(people.ContainsKey(someRandomName))\n",
    "    Console.WriteLine(people[someRandomName]);\n",
    "else \n",
    "    Console.WriteLine($\"{someRandomName} NOT among people\");\n",
    "/*\n",
    "Error: System.Collections.Generic.KeyNotFoundException: The given key 'George' was not present in the dictionary.\n",
    "*/\n",
    "\n",
    "int age;\n",
    "if(people.TryGetValue(\"Mary\", out age))\n",
    "    Console.WriteLine(age);\n",
    "\n",
    "people.TryGetValue(\"George\", out age);\n",
    "Console.WriteLine(age);\n",
    "\n",
    "// Adding and changing data\n",
    "people[\"John\"] = 40;\n",
    "// people.Add(\"John\", 54);\n",
    "/*\n",
    "Error: System.ArgumentException: An item with the same key has already been added. Key: John\n",
    "*/\n",
    "\n",
    "// Iterating through contents\n",
    "foreach(KeyValuePair<string, int> person in people)\n",
    "{\n",
    "    Console.WriteLine(\"Name={0}, Age={1}\", person.Key, person.Value);\n",
    "}\n",
    "\n",
    "Console.WriteLine(string.Join(\", \", people.Keys));\n",
    "Console.WriteLine(string.Join(\", \", people.Values));"
   ]
  },
  {
   "cell_type": "markdown",
   "metadata": {},
   "source": [
    "# `SortedSet<T>`\n"
   ]
  },
  {
   "cell_type": "code",
   "execution_count": null,
   "metadata": {
    "dotnet_interactive": {
     "language": "csharp"
    },
    "vscode": {
     "languageId": "dotnet-interactive.csharp"
    }
   },
   "outputs": [
    {
     "name": "stdout",
     "output_type": "stream",
     "text": [
      "1|2|4|5\n"
     ]
    }
   ],
   "source": [
    "var mySet = new SortedSet<int>{\n",
    "    5,4\n",
    "};\n",
    "\n",
    "mySet.Add(1);\n",
    "mySet.Add(7);\n",
    "\n",
    "Console.WriteLine(string.Join(\"|\",mySet));"
   ]
  },
  {
   "cell_type": "code",
   "execution_count": null,
   "metadata": {
    "dotnet_interactive": {
     "language": "csharp"
    },
    "vscode": {
     "languageId": "dotnet-interactive.csharp"
    }
   },
   "outputs": [
    {
     "name": "stdout",
     "output_type": "stream",
     "text": [
      "1\n"
     ]
    }
   ],
   "source": [
    "record Data(int X, int Y);\n",
    "\n",
    "private Stack<Data> _stack =new();\n",
    "_stack.Push(new Data(1,2));\n",
    "int x = Math.Min(_stack.Peek().X, 100);\n",
    "Console.WriteLine(x);"
   ]
  }
 ],
 "metadata": {
  "kernelspec": {
   "display_name": ".NET (C#)",
   "language": "C#",
   "name": ".net-csharp"
  },
  "language_info": {
   "file_extension": ".cs",
   "mimetype": "text/x-csharp",
   "name": "C#",
   "pygments_lexer": "csharp",
   "version": "9.0"
  },
  "orig_nbformat": 4
 },
 "nbformat": 4,
 "nbformat_minor": 2
}
